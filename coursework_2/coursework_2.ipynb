{
 "cells": [
  {
   "cell_type": "markdown",
   "metadata": {},
   "source": [
    "# Coursework 2: Neural Networks \n",
    "\n",
    "This coursework covers the topics covered in class regarding neural networks for image classification.\n",
    "\n",
    "This coursework includes both coding questions as well as written ones. Please upload the notebook, which contains your code, results and answers as a pdf file onto Cate.\n",
    "\n",
    "Dependencies: If you work on a college computer in the Computing Lab, where Ubuntu 18.04 is installed by default, you can use the following virtual environment for your work, where relevant Python packages are already installed.\n",
    "\n",
    "`source /vol/bitbucket/wbai/virt/computer_vision_ubuntu18.04/bin/activate`\n",
    "\n",
    "Alternatively, you can use pip, pip3 or anaconda etc to install Python packages.\n",
    "\n",
    "**Note 1:** please read the both the text and code comment in this notebook to get an idea what you are supposed to implement.\n",
    "\n",
    "**Note 2:** If you are using the virtual environment in the Computing Lab, please run the following command in the command line before opening jupyter-notebook and importing tensorflow. This will tell tensorflow where the Nvidia CUDA libariries are.\n",
    "\n",
    "`export LD_LIBRARY_PATH=/vol/cuda/9.0.176/lib64/:\"${LD_LIBRARY_PATH}}\"` "
   ]
  },
  {
   "cell_type": "code",
   "execution_count": 1,
   "metadata": {},
   "outputs": [
    {
     "name": "stderr",
     "output_type": "stream",
     "text": [
      "Using TensorFlow backend.\n"
     ]
    }
   ],
   "source": [
    "# Import libraries\n",
    "import numpy as np \n",
    "import matplotlib.pyplot as plt\n",
    "%matplotlib inline\n",
    "import tensorflow as tf \n",
    "import keras\n",
    "from keras.models import Sequential\n",
    "from keras.layers import Dense, Dropout"
   ]
  },
  {
   "cell_type": "markdown",
   "metadata": {},
   "source": [
    "## Question 1 (20 points)\n",
    "\n",
    "Throughout this coursework you will be working with the Fashion-MNIST dataset. If you are interested, you may find relevant information regarding the dataset in this paper.\n",
    "\n",
    "[1] Fashion-MNIST: A novel image dataset for benchmarking machine learning algorithms. Han Xiao, Kashif Rasul, Roland Vollgraf. [arXiv:1708.07747](https://arxiv.org/abs/1708.07747)\n",
    "\n",
    "Be sure that you have the following files in your working directory: data.tar.gz and reader.py. Loading the data can be done as follows:\n",
    "\n",
    "`from reader import get_images\n",
    "(x_train, y_train), (x_test, y_test) = get_images()`\n",
    "\n",
    "The dataset is already split into a set of 60,000 training images and a set of 10,000 test images. The images are of size 28x28 pixels and stored as 784-D vector. So if you would like to visualise the images, you need to reshape the array.\n",
    "\n",
    "There are in total 10 label classes, which are:\n",
    "* 0: T-shirt/top\n",
    "* 1: Trousers\n",
    "* 2: Pullover\n",
    "* 3: Dress\n",
    "* 4: Coat\n",
    "* 5: Sandal\n",
    "* 6: Shirt\n",
    "* 7: Sneaker\n",
    "* 8: Bag\n",
    "* 9: Ankle boot"
   ]
  },
  {
   "cell_type": "markdown",
   "metadata": {},
   "source": [
    "### 1.1 Load data (6 points)\n",
    "Load the dataset and print the dimensions of the training set and the test set."
   ]
  },
  {
   "cell_type": "code",
   "execution_count": 44,
   "metadata": {},
   "outputs": [
    {
     "name": "stdout",
     "output_type": "stream",
     "text": [
      "The dimensions of training set: (60000, 784), (60000,)\n",
      "The dimensions of test set: (10000, 784), (10000,)\n"
     ]
    }
   ],
   "source": [
    "from reader import get_images\n",
    "(x_train, y_train), (x_test, y_test) = get_images()\n",
    "print(\"The dimensions of training set: {}, {}\".format(x_train.shape, y_train.shape))\n",
    "print(\"The dimensions of test set: {}, {}\".format(x_test.shape, y_test.shape))"
   ]
  },
  {
   "cell_type": "markdown",
   "metadata": {},
   "source": [
    "### 1.2 Visualize data (6 points)\n",
    "Visualise 3 training images (T-shirt, trousers and pullover) and 3 test images (dress, coat and sandal)."
   ]
  },
  {
   "cell_type": "code",
   "execution_count": 33,
   "metadata": {},
   "outputs": [
    {
     "data": {
      "image/png": "[encoded data removed]",
      "text/plain": [
       "<Figure size 432x288 with 6 Axes>"
      ]
     },
     "metadata": {
      "needs_background": "light"
     },
     "output_type": "display_data"
    }
   ],
   "source": [
    "fig, axes = plt.subplots(2, 3)\n",
    "axes[0,0].imshow(x_train[y_train==0][0].reshape((28,28)), cmap='gray')\n",
    "axes[0,0].set_title(\"train image of T-shirt\")\n",
    "axes[0,1].imshow(x_train[y_train==1][0].reshape((28,28)), cmap='gray')\n",
    "axes[0,1].set_title(\"train image of trousers\")\n",
    "axes[0,2].imshow(x_train[y_train==2][0].reshape((28,28)), cmap='gray')\n",
    "axes[0,2].set_title(\"train image of pullover\")\n",
    "\n",
    "axes[1,0].imshow(x_test[y_test==3][0].reshape((28,28)), cmap='gray')\n",
    "axes[1,0].set_title(\"test image of dress\")\n",
    "axes[1,1].imshow(x_test[y_test==4][0].reshape((28,28)), cmap='gray')\n",
    "axes[1,1].set_title(\"test image of coat\")\n",
    "axes[1,2].imshow(x_test[y_test==5][0].reshape((28,28)), cmap='gray')\n",
    "axes[1,2].set_title(\"test image of sandal\")\n",
    "\n",
    "fig.tight_layout(w_pad=5)\n",
    "plt.show()"
   ]
  },
  {
   "cell_type": "markdown",
   "metadata": {},
   "source": [
    "### 1.3 Data balance (4 points)\n",
    "Print out the number of training samples for each class."
   ]
  },
  {
   "cell_type": "code",
   "execution_count": 34,
   "metadata": {},
   "outputs": [
    {
     "name": "stdout",
     "output_type": "stream",
     "text": [
      "the number of traing samples for T-shirt/top is 6000\n",
      "the number of traing samples for Trousers is 6000\n",
      "the number of traing samples for Pullover is 6000\n",
      "the number of traing samples for Dress is 6000\n",
      "the number of traing samples for Coat is 6000\n",
      "the number of traing samples for Sandal is 6000\n",
      "the number of traing samples for Shirt is 6000\n",
      "the number of traing samples for Sneaker is 6000\n",
      "the number of traing samples for Bag is 6000\n",
      "the number of traing samples for Ankle boot is 6000\n"
     ]
    }
   ],
   "source": [
    "classes = {0: \"T-shirt/top\",1: \"Trousers\",2: \"Pullover\",3: \"Dress\",\\\n",
    "4: \"Coat\", 5: \"Sandal\", 6: \"Shirt\", 7: \"Sneaker\", 8: \"Bag\", 9: \"Ankle boot\"}\n",
    "for i in range(10):\n",
    "    print(\"the number of traing samples for {} is {}\".format(classes[i], x_train[y_train==i].shape[0]))"
   ]
  },
  {
   "cell_type": "markdown",
   "metadata": {},
   "source": [
    "### 1.4 Discussion (4 points)\n",
    "Is the dataset balanced? What would happen if the dataset is not balanced in the context of image classification? "
   ]
  },
  {
   "cell_type": "code",
   "execution_count": 35,
   "metadata": {},
   "outputs": [
    {
     "name": "stdout",
     "output_type": "stream",
     "text": [
      "The dataset is balanced. If the dataset is not balanced, then the trained model may ignore the minor classes or overfit on the major classes.\n"
     ]
    }
   ],
   "source": [
    "print(\"The dataset is balanced. If the dataset is not balanced, then the trained model may ignore the minor classes or overfit on the major classes.\")"
   ]
  },
  {
   "cell_type": "markdown",
   "metadata": {},
   "source": [
    "## Question 2 (40 points)\n",
    "\n",
    "Build a neural network and train it with the Fashion-MNIST dataset. Here, we use the keras library, which is a high-level neural network library built upon tensorflow."
   ]
  },
  {
   "cell_type": "code",
   "execution_count": 45,
   "metadata": {},
   "outputs": [],
   "source": [
    "# Convert the label class into a one-hot representation\n",
    "num_classes = 10\n",
    "y_train = keras.utils.to_categorical(y_train, num_classes)\n",
    "y_test = keras.utils.to_categorical(y_test, num_classes)"
   ]
  },
  {
   "cell_type": "markdown",
   "metadata": {},
   "source": [
    "### 2.1 Build a multi-layer perceptron, also known as multi-layer fully connected network. You need to define the layers, the loss function, the optimiser and evaluation metric. (30 points)"
   ]
  },
  {
   "cell_type": "code",
   "execution_count": 121,
   "metadata": {},
   "outputs": [
    {
     "name": "stdout",
     "output_type": "stream",
     "text": [
      "_________________________________________________________________\n",
      "Layer (type)                 Output Shape              Param #   \n",
      "=================================================================\n",
      "dense_100 (Dense)            (None, 256)               200960    \n",
      "_________________________________________________________________\n",
      "dropout_70 (Dropout)         (None, 256)               0         \n",
      "_________________________________________________________________\n",
      "dense_101 (Dense)            (None, 32)                8224      \n",
      "_________________________________________________________________\n",
      "dropout_71 (Dropout)         (None, 32)                0         \n",
      "_________________________________________________________________\n",
      "dense_102 (Dense)            (None, 10)                330       \n",
      "=================================================================\n",
      "Total params: 209,514\n",
      "Trainable params: 209,514\n",
      "Non-trainable params: 0\n",
      "_________________________________________________________________\n",
      "None\n"
     ]
    }
   ],
   "source": [
    "model = keras.models.Sequential()\n",
    "model.add(Dense(256, activation='elu', input_dim=784))\n",
    "model.add(Dropout(0.5))\n",
    "model.add(Dense(32,activation='relu'))\n",
    "model.add(Dropout(0.5))\n",
    "#model.add(Dense(64, activation='relu'))\n",
    "#model.add(Dropout(0.5))\n",
    "#model.add(Dense(32, activation='relu'))\n",
    "#model.add(Dropout(0.5))\n",
    "model.add(Dense(10, activation='softmax'))\n",
    "\n",
    "sgd = keras.optimizers.SGD(lr=0.004, decay=1e-6, momentum=0.1,nesterov=True)\n",
    "model.compile(loss=\"categorical_crossentropy\", optimizer=sgd, metrics=[\"accuracy\"])\n",
    "print(model.summary())"
   ]
  },
  {
   "cell_type": "markdown",
   "metadata": {},
   "source": [
    "### 2.2 Define the optimisation parameters including the batch size and the number of epochs and then run the optimiser. (10 points)\n",
    "\n",
    "We have tested that for an appropriate network architecture, on a personal laptop and with only CPU, it takes about a few seconds per epoch to train the network. For 100 epochs, it takes about a coffee break's time to finish the training. If you run it on a powerful GPU, it would be even much faster."
   ]
  },
  {
   "cell_type": "code",
   "execution_count": 122,
   "metadata": {},
   "outputs": [
    {
     "name": "stdout",
     "output_type": "stream",
     "text": [
      "Epoch 1/100\n",
      "60000/60000 [==============================] - 2s 41us/step - loss: 12.7219 - acc: 0.1981\n",
      "Epoch 2/100\n",
      "60000/60000 [==============================] - 2s 25us/step - loss: 9.5880 - acc: 0.3876\n",
      "Epoch 3/100\n",
      "60000/60000 [==============================] - 1s 25us/step - loss: 7.7691 - acc: 0.4840\n",
      "Epoch 4/100\n",
      "60000/60000 [==============================] - 1s 25us/step - loss: 4.1920 - acc: 0.3869\n",
      "Epoch 5/100\n",
      "60000/60000 [==============================] - 1s 24us/step - loss: 2.3095 - acc: 0.2470\n",
      "Epoch 6/100\n",
      "60000/60000 [==============================] - 1s 25us/step - loss: 2.1717 - acc: 0.2505\n",
      "Epoch 7/100\n",
      "60000/60000 [==============================] - 1s 25us/step - loss: 2.1123 - acc: 0.2674\n",
      "Epoch 8/100\n",
      "60000/60000 [==============================] - 1s 25us/step - loss: 2.0713 - acc: 0.2881\n",
      "Epoch 9/100\n",
      "60000/60000 [==============================] - 1s 25us/step - loss: 2.0016 - acc: 0.2986\n",
      "Epoch 10/100\n",
      "60000/60000 [==============================] - 1s 25us/step - loss: 1.9799 - acc: 0.3358\n",
      "Epoch 11/100\n",
      "60000/60000 [==============================] - 1s 25us/step - loss: 1.9271 - acc: 0.3452\n",
      "Epoch 12/100\n",
      "60000/60000 [==============================] - 1s 25us/step - loss: 1.8909 - acc: 0.3623\n",
      "Epoch 13/100\n",
      "60000/60000 [==============================] - 2s 25us/step - loss: 1.8521 - acc: 0.3733\n",
      "Epoch 14/100\n",
      "60000/60000 [==============================] - 1s 25us/step - loss: 1.8238 - acc: 0.3977\n",
      "Epoch 15/100\n",
      "60000/60000 [==============================] - 1s 25us/step - loss: 1.8032 - acc: 0.4021\n",
      "Epoch 16/100\n",
      "60000/60000 [==============================] - 1s 25us/step - loss: 1.7815 - acc: 0.4100\n",
      "Epoch 17/100\n",
      "60000/60000 [==============================] - 1s 25us/step - loss: 1.7382 - acc: 0.4269\n",
      "Epoch 18/100\n",
      "60000/60000 [==============================] - 1s 25us/step - loss: 1.7439 - acc: 0.4331\n",
      "Epoch 19/100\n",
      "60000/60000 [==============================] - 1s 25us/step - loss: 1.7055 - acc: 0.4375\n",
      "Epoch 20/100\n",
      "60000/60000 [==============================] - 1s 25us/step - loss: 1.6992 - acc: 0.4422\n",
      "Epoch 21/100\n",
      "60000/60000 [==============================] - 1s 25us/step - loss: 1.6665 - acc: 0.4481\n",
      "Epoch 22/100\n",
      "60000/60000 [==============================] - 2s 25us/step - loss: 1.6748 - acc: 0.4563\n",
      "Epoch 23/100\n",
      "60000/60000 [==============================] - 1s 25us/step - loss: 1.6509 - acc: 0.4549\n",
      "Epoch 24/100\n",
      "60000/60000 [==============================] - 1s 25us/step - loss: 1.6363 - acc: 0.4677\n",
      "Epoch 25/100\n",
      "60000/60000 [==============================] - 1s 25us/step - loss: 1.6040 - acc: 0.4733\n",
      "Epoch 26/100\n",
      "60000/60000 [==============================] - 1s 25us/step - loss: 1.6031 - acc: 0.4714\n",
      "Epoch 27/100\n",
      "60000/60000 [==============================] - 2s 25us/step - loss: 1.6035 - acc: 0.4725\n",
      "Epoch 28/100\n",
      "60000/60000 [==============================] - 1s 24us/step - loss: 1.5796 - acc: 0.4820\n",
      "Epoch 29/100\n",
      "60000/60000 [==============================] - 2s 25us/step - loss: 1.5633 - acc: 0.4869\n",
      "Epoch 30/100\n",
      "60000/60000 [==============================] - 1s 25us/step - loss: 1.5448 - acc: 0.4921\n",
      "Epoch 31/100\n",
      "60000/60000 [==============================] - 2s 25us/step - loss: 1.5514 - acc: 0.4863\n",
      "Epoch 32/100\n",
      "60000/60000 [==============================] - 1s 25us/step - loss: 1.5288 - acc: 0.4949\n",
      "Epoch 33/100\n",
      "60000/60000 [==============================] - 2s 25us/step - loss: 1.5304 - acc: 0.4944\n",
      "Epoch 34/100\n",
      "60000/60000 [==============================] - 1s 25us/step - loss: 1.5056 - acc: 0.5030\n",
      "Epoch 35/100\n",
      "60000/60000 [==============================] - 2s 25us/step - loss: 1.5019 - acc: 0.5029\n",
      "Epoch 36/100\n",
      "60000/60000 [==============================] - 1s 25us/step - loss: 1.4890 - acc: 0.5065\n",
      "Epoch 37/100\n",
      "60000/60000 [==============================] - 2s 25us/step - loss: 1.4822 - acc: 0.5131\n",
      "Epoch 38/100\n",
      "60000/60000 [==============================] - 1s 25us/step - loss: 1.4621 - acc: 0.5088\n",
      "Epoch 39/100\n",
      "60000/60000 [==============================] - 2s 25us/step - loss: 1.4585 - acc: 0.5105\n",
      "Epoch 40/100\n",
      "60000/60000 [==============================] - 1s 25us/step - loss: 1.4562 - acc: 0.5124\n",
      "Epoch 41/100\n",
      "60000/60000 [==============================] - 2s 25us/step - loss: 1.4415 - acc: 0.5188\n",
      "Epoch 42/100\n",
      "60000/60000 [==============================] - 2s 26us/step - loss: 1.4275 - acc: 0.5190\n",
      "Epoch 43/100\n",
      "60000/60000 [==============================] - 2s 29us/step - loss: 1.4202 - acc: 0.5215\n",
      "Epoch 44/100\n",
      "60000/60000 [==============================] - 2s 29us/step - loss: 1.4054 - acc: 0.5162\n",
      "Epoch 45/100\n",
      "60000/60000 [==============================] - 2s 28us/step - loss: 1.3882 - acc: 0.5190\n",
      "Epoch 46/100\n",
      "60000/60000 [==============================] - 2s 26us/step - loss: 1.3877 - acc: 0.5198\n",
      "Epoch 47/100\n",
      "60000/60000 [==============================] - 2s 28us/step - loss: 1.3610 - acc: 0.5204\n",
      "Epoch 48/100\n",
      "60000/60000 [==============================] - 2s 28us/step - loss: 1.3402 - acc: 0.5321\n",
      "Epoch 49/100\n",
      "60000/60000 [==============================] - 2s 26us/step - loss: 1.3349 - acc: 0.5279\n",
      "Epoch 50/100\n",
      "60000/60000 [==============================] - 2s 26us/step - loss: 1.3243 - acc: 0.5343\n",
      "Epoch 51/100\n",
      "60000/60000 [==============================] - 2s 26us/step - loss: 1.3132 - acc: 0.5329\n",
      "Epoch 52/100\n",
      "60000/60000 [==============================] - 2s 27us/step - loss: 1.3102 - acc: 0.5342\n",
      "Epoch 53/100\n",
      "60000/60000 [==============================] - 2s 29us/step - loss: 1.3037 - acc: 0.5404\n",
      "Epoch 54/100\n",
      "60000/60000 [==============================] - 2s 33us/step - loss: 1.2862 - acc: 0.5473\n",
      "Epoch 55/100\n",
      "60000/60000 [==============================] - 2s 31us/step - loss: 1.2840 - acc: 0.5493\n",
      "Epoch 56/100\n",
      "60000/60000 [==============================] - 2s 28us/step - loss: 1.2759 - acc: 0.5467\n",
      "Epoch 57/100\n",
      "60000/60000 [==============================] - 1s 25us/step - loss: 1.2690 - acc: 0.5518\n",
      "Epoch 58/100\n",
      "60000/60000 [==============================] - 2s 25us/step - loss: 1.2512 - acc: 0.5538\n",
      "Epoch 59/100\n",
      "60000/60000 [==============================] - 1s 25us/step - loss: 1.2473 - acc: 0.5619\n",
      "Epoch 60/100\n",
      "60000/60000 [==============================] - 1s 24us/step - loss: 1.2268 - acc: 0.5635\n",
      "Epoch 61/100\n",
      "60000/60000 [==============================] - 1s 24us/step - loss: 1.2279 - acc: 0.5628\n",
      "Epoch 62/100\n",
      "60000/60000 [==============================] - 2s 26us/step - loss: 1.2362 - acc: 0.5683\n",
      "Epoch 63/100\n",
      "60000/60000 [==============================] - 2s 26us/step - loss: 1.2164 - acc: 0.5672\n",
      "Epoch 64/100\n",
      "60000/60000 [==============================] - 1s 24us/step - loss: 1.2172 - acc: 0.5710\n",
      "Epoch 65/100\n",
      "60000/60000 [==============================] - 1s 24us/step - loss: 1.2006 - acc: 0.5692\n",
      "Epoch 66/100\n",
      "60000/60000 [==============================] - 1s 24us/step - loss: 1.2077 - acc: 0.5692\n",
      "Epoch 67/100\n",
      "60000/60000 [==============================] - 1s 23us/step - loss: 1.1909 - acc: 0.5756\n",
      "Epoch 68/100\n",
      "60000/60000 [==============================] - 1s 24us/step - loss: 1.1808 - acc: 0.5809\n",
      "Epoch 69/100\n",
      "60000/60000 [==============================] - 2s 25us/step - loss: 1.1770 - acc: 0.5830\n",
      "Epoch 70/100\n",
      "60000/60000 [==============================] - 2s 26us/step - loss: 1.1727 - acc: 0.5797\n",
      "Epoch 71/100\n",
      "60000/60000 [==============================] - 1s 25us/step - loss: 1.1614 - acc: 0.5838\n",
      "Epoch 72/100\n",
      "60000/60000 [==============================] - 1s 24us/step - loss: 1.1596 - acc: 0.5856\n",
      "Epoch 73/100\n",
      "60000/60000 [==============================] - 1s 24us/step - loss: 1.1566 - acc: 0.5856\n",
      "Epoch 74/100\n",
      "60000/60000 [==============================] - 1s 24us/step - loss: 1.1515 - acc: 0.5856\n",
      "Epoch 75/100\n",
      "60000/60000 [==============================] - 1s 24us/step - loss: 1.1395 - acc: 0.5893\n",
      "Epoch 76/100\n",
      "60000/60000 [==============================] - 1s 24us/step - loss: 1.1473 - acc: 0.5897\n",
      "Epoch 77/100\n",
      "60000/60000 [==============================] - 1s 24us/step - loss: 1.1355 - acc: 0.5928\n",
      "Epoch 78/100\n",
      "60000/60000 [==============================] - 1s 23us/step - loss: 1.1296 - acc: 0.5937\n",
      "Epoch 79/100\n",
      "60000/60000 [==============================] - 1s 24us/step - loss: 1.1199 - acc: 0.5982\n",
      "Epoch 80/100\n",
      "60000/60000 [==============================] - 2s 25us/step - loss: 1.1254 - acc: 0.5986\n",
      "Epoch 81/100\n"
     ]
    },
    {
     "name": "stdout",
     "output_type": "stream",
     "text": [
      "60000/60000 [==============================] - 2s 28us/step - loss: 1.1238 - acc: 0.5974\n",
      "Epoch 82/100\n",
      "60000/60000 [==============================] - 2s 30us/step - loss: 1.1186 - acc: 0.6002\n",
      "Epoch 83/100\n",
      "60000/60000 [==============================] - 2s 29us/step - loss: 1.1065 - acc: 0.5994\n",
      "Epoch 84/100\n",
      "60000/60000 [==============================] - 2s 27us/step - loss: 1.1028 - acc: 0.6037\n",
      "Epoch 85/100\n",
      "60000/60000 [==============================] - 2s 26us/step - loss: 1.0981 - acc: 0.6053\n",
      "Epoch 86/100\n",
      "60000/60000 [==============================] - 2s 29us/step - loss: 1.0894 - acc: 0.6069\n",
      "Epoch 87/100\n",
      "60000/60000 [==============================] - 2s 29us/step - loss: 1.0976 - acc: 0.6069\n",
      "Epoch 88/100\n",
      "60000/60000 [==============================] - 2s 29us/step - loss: 1.0978 - acc: 0.6059\n",
      "Epoch 89/100\n",
      "60000/60000 [==============================] - 2s 28us/step - loss: 1.0813 - acc: 0.6118\n",
      "Epoch 90/100\n",
      "60000/60000 [==============================] - 2s 30us/step - loss: 1.0753 - acc: 0.6161\n",
      "Epoch 91/100\n",
      "60000/60000 [==============================] - 2s 28us/step - loss: 1.0681 - acc: 0.6127\n",
      "Epoch 92/100\n",
      "60000/60000 [==============================] - 2s 26us/step - loss: 1.0660 - acc: 0.6130\n",
      "Epoch 93/100\n",
      "60000/60000 [==============================] - 2s 28us/step - loss: 1.0599 - acc: 0.6147\n",
      "Epoch 94/100\n",
      "60000/60000 [==============================] - 2s 27us/step - loss: 1.0579 - acc: 0.6142\n",
      "Epoch 95/100\n",
      "60000/60000 [==============================] - 2s 27us/step - loss: 1.0428 - acc: 0.6164\n",
      "Epoch 96/100\n",
      "60000/60000 [==============================] - 2s 25us/step - loss: 1.0387 - acc: 0.6153\n",
      "Epoch 97/100\n",
      "60000/60000 [==============================] - 2s 25us/step - loss: 1.0382 - acc: 0.6173\n",
      "Epoch 98/100\n",
      "60000/60000 [==============================] - 2s 26us/step - loss: 1.0245 - acc: 0.6196\n",
      "Epoch 99/100\n",
      "60000/60000 [==============================] - 2s 26us/step - loss: 1.0252 - acc: 0.6207\n",
      "Epoch 100/100\n",
      "60000/60000 [==============================] - 2s 25us/step - loss: 1.0053 - acc: 0.6238\n",
      "10000/10000 [==============================] - 0s 47us/step\n",
      "[0.7276092648506165, 0.7055999964475632]\n"
     ]
    }
   ],
   "source": [
    "batch_size = 1500\n",
    "epochs = 100\n",
    "model.fit(x_train, y_train, batch_size=batch_size, epochs=epochs)\n",
    "score = model.evaluate(x_test, y_test, batch_size=batch_size)\n",
    "print(score)"
   ]
  },
  {
   "cell_type": "markdown",
   "metadata": {},
   "source": [
    "## Question 3 (20 points) \n",
    "\n",
    "Evaluate the performance of your network with the test data. \n",
    "Visualize the performance using appropriate metrics and graphs (eg. confusion matrix). \n",
    "Comment on your per class performance and how it could be better."
   ]
  },
  {
   "cell_type": "code",
   "execution_count": 53,
   "metadata": {
    "collapsed": true
   },
   "outputs": [],
   "source": [
    "# This function is provided for you to display the confusion matrix.\n",
    "# For more information about the confusion matrix, you can read at\n",
    "# https://en.wikipedia.org/wiki/Confusion_matrix\n",
    "def plot_confusion_matrix(cm, classes, normalize=False, title='Confusion matrix', cmap=plt.cm.Blues):\n",
    "    \"\"\"\n",
    "        This function prints and plots the confusion matrix.\n",
    "        \n",
    "        cm: confusion matrix, default to be np.int32 data type\n",
    "        classes: a list of the class labels or class names\n",
    "        normalize: normalize the matrix so that each row amounts to one\n",
    "        cmap: color map\n",
    "    \"\"\"\n",
    "    if normalize:\n",
    "        cm = cm.astype('float') / cm.sum(axis=1)[:, np.newaxis]\n",
    "        print(\"Normalized confusion matrix\")\n",
    "    else:\n",
    "        print('Confusion matrix, without normalization')\n",
    "    print(cm)\n",
    "\n",
    "    plt.imshow(cm, interpolation='nearest', cmap=cmap)\n",
    "    plt.title(title)\n",
    "    plt.colorbar()\n",
    "    tick_marks = np.arange(len(classes))\n",
    "    plt.xticks(tick_marks, classes, rotation=45)\n",
    "    plt.yticks(tick_marks, classes)\n",
    "\n",
    "    fmt = '.2f' if normalize else 'd'\n",
    "    thresh = cm.max() / 2.\n",
    "    for i, j in itertools.product(range(cm.shape[0]), range(cm.shape[1])):\n",
    "        plt.text(j, i, format(cm[i, j], fmt),\n",
    "                 horizontalalignment=\"center\",\n",
    "                 color=\"white\" if cm[i, j] > thresh else \"black\")\n",
    "    plt.ylabel('True label')\n",
    "    plt.xlabel('Predicted label')\n",
    "    plt.tight_layout()"
   ]
  },
  {
   "cell_type": "markdown",
   "metadata": {},
   "source": [
    "### 3.1 Evaluate the classification accuracy on the test set (10 points)"
   ]
  },
  {
   "cell_type": "code",
   "execution_count": 118,
   "metadata": {},
   "outputs": [
    {
     "name": "stdout",
     "output_type": "stream",
     "text": [
      "10000/10000 [==============================] - 0s 11us/step\n",
      "[0.7502621412277222, 0.7730000019073486]\n"
     ]
    }
   ],
   "source": [
    "score = model.evaluate(x_test, y_test, batch_size=batch_size)\n",
    "print(score)"
   ]
  },
  {
   "cell_type": "markdown",
   "metadata": {},
   "source": [
    "### 3.2 Calculate and plot the confusion matrix (10 points)"
   ]
  },
  {
   "cell_type": "code",
   "execution_count": null,
   "metadata": {
    "collapsed": true
   },
   "outputs": [],
   "source": []
  },
  {
   "cell_type": "markdown",
   "metadata": {},
   "source": [
    "## Question 4 (20 points)\n",
    "Take two photos, one of your clothes or shoes that belongs to one of 10 classes, the other that does not belong to any class.\n",
    "\n",
    "Use either Python or other software (Photoshop, Gimp, or any image editer) to convert the photos into grayscale, crop the region of interest and reshape into the size of 28x28.\n",
    "\n",
    "### 4.1 Load and visualise your own images (6 points)"
   ]
  },
  {
   "cell_type": "code",
   "execution_count": null,
   "metadata": {
    "collapsed": true
   },
   "outputs": [],
   "source": []
  },
  {
   "cell_type": "markdown",
   "metadata": {},
   "source": [
    "### 4.2 Test your network on the two images and show the classification results (10 points)"
   ]
  },
  {
   "cell_type": "code",
   "execution_count": null,
   "metadata": {
    "collapsed": true
   },
   "outputs": [],
   "source": []
  },
  {
   "cell_type": "markdown",
   "metadata": {},
   "source": [
    "### 4.3 Discuss the classification results and provide one method to improve real life performance of the network (4 points)"
   ]
  },
  {
   "cell_type": "code",
   "execution_count": null,
   "metadata": {
    "collapsed": true
   },
   "outputs": [],
   "source": []
  },
  {
   "cell_type": "markdown",
   "metadata": {},
   "source": [
    "## 5. Survey\n",
    "How long did the coursework take you to solve? "
   ]
  },
  {
   "cell_type": "markdown",
   "metadata": {},
   "source": []
  },
  {
   "cell_type": "code",
   "execution_count": null,
   "metadata": {
    "collapsed": true
   },
   "outputs": [],
   "source": []
  }
 ],
 "metadata": {
  "kernelspec": {
   "display_name": "Python 3",
   "language": "python",
   "name": "python3"
  },
  "language_info": {
   "codemirror_mode": {
    "name": "ipython",
    "version": 3
   },
   "file_extension": ".py",
   "mimetype": "text/x-python",
   "name": "python",
   "nbconvert_exporter": "python",
   "pygments_lexer": "ipython3",
   "version": "3.6.3"
  }
 },
 "nbformat": 4,
 "nbformat_minor": 2
}
